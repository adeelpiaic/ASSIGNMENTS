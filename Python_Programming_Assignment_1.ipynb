{
 "cells": [
  {
   "cell_type": "markdown",
   "metadata": {},
   "source": [
    "# Python Programming Assignment 1\n",
    "\n",
    "# AI-101 Fundamentals of Programming using Python"
   ]
  },
  {
   "cell_type": "markdown",
   "metadata": {},
   "source": [
    "# 1) Calculate Area of a Circle"
   ]
  },
  {
   "cell_type": "code",
   "execution_count": 28,
   "metadata": {},
   "outputs": [
    {
     "name": "stdout",
     "output_type": "stream",
     "text": [
      "Input Radius: 0.5\n",
      "Area of Circle with radius 0.5 is 0.7853981633974483\n"
     ]
    }
   ],
   "source": [
    "from math import pi\n",
    "radius = float(input(\"Input Radius: \"))\n",
    "result = pi * radius ** 2\n",
    "print(f\"Area of Circle with radius {radius} is {result}\")"
   ]
  },
  {
   "cell_type": "markdown",
   "metadata": {},
   "source": [
    "# 2) Check Number either positive, negative or zero"
   ]
  },
  {
   "cell_type": "code",
   "execution_count": 6,
   "metadata": {},
   "outputs": [
    {
     "name": "stdout",
     "output_type": "stream",
     "text": [
      "Enter Number: -1\n",
      "Negative Number Enetered\n"
     ]
    }
   ],
   "source": [
    "num = int(input(\"Enter Number: \"))\n",
    "if num > 0:\n",
    "    print(\"Positive Number Entered\")\n",
    "elif num == 0:\n",
    "        print(\"Zero Entered\")\n",
    "else:\n",
    "            print(\"Negative Number Enetered\")"
   ]
  },
  {
   "cell_type": "code",
   "execution_count": 7,
   "metadata": {},
   "outputs": [
    {
     "name": "stdout",
     "output_type": "stream",
     "text": [
      "Integer: 3\n",
      "Positive Number Entered\n"
     ]
    }
   ],
   "source": [
    "num = int(input(\"Integer: \"))\n",
    "if num > 0:\n",
    "    print(\"Positive Number Entered\")\n",
    "elif num == 0:\n",
    "        print(\"Zero Entered\")\n",
    "else:\n",
    "            print(\"Negative Number Enetered\")"
   ]
  },
  {
   "cell_type": "code",
   "execution_count": 8,
   "metadata": {},
   "outputs": [
    {
     "name": "stdout",
     "output_type": "stream",
     "text": [
      "Integer: 0\n",
      "Zero Entered\n"
     ]
    }
   ],
   "source": [
    "num = int(input(\"Integer: \"))\n",
    "if num > 0:\n",
    "    print(\"Positive Number Entered\")\n",
    "elif num == 0:\n",
    "        print(\"Zero Entered\")\n",
    "else:\n",
    "            print(\"Negative Number Enetered\")"
   ]
  },
  {
   "cell_type": "markdown",
   "metadata": {},
   "source": [
    "# 3) Divisibility Check of two numbers"
   ]
  },
  {
   "cell_type": "code",
   "execution_count": 12,
   "metadata": {},
   "outputs": [
    {
     "name": "stdout",
     "output_type": "stream",
     "text": [
      "Enter Numerator: 10\n",
      "Enter Denominator: 5\n",
      "Number 10 is completely divisible by 5\n"
     ]
    }
   ],
   "source": [
    "numrtr = int(input(\"Enter Numerator: \"))\n",
    "denmtr = int(input(\"Enter Denominator: \"))\n",
    "if numrtr % denmtr == 0:\n",
    "    print(\"Number 10 is completely divisible by 5\")"
   ]
  },
  {
   "cell_type": "code",
   "execution_count": 16,
   "metadata": {},
   "outputs": [
    {
     "name": "stdout",
     "output_type": "stream",
     "text": [
      "Enter Numerator: 21\n",
      "Enter Denominator: 6\n",
      "Number 21 is not completely divisible by 6\n"
     ]
    }
   ],
   "source": [
    "numrt = int(input(\"Enter Numerator: \"))\n",
    "den = int(input(\"Enter Denominator: \"))\n",
    "if numrt % den == 0:\n",
    "    print(\"Number 21 is completely divisible by 6\")\n",
    "else:\n",
    "    print(\"Number 21 is not completely divisible by 6\")"
   ]
  },
  {
   "cell_type": "markdown",
   "metadata": {},
   "source": [
    "# 4) Days Calculator"
   ]
  },
  {
   "cell_type": "code",
   "execution_count": 1,
   "metadata": {},
   "outputs": [
    {
     "name": "stdout",
     "output_type": "stream",
     "text": [
      "365\n"
     ]
    }
   ],
   "source": [
    "# Tried new method\n",
    "from datetime import date\n",
    "first_date = date(2013, 10, 1)\n",
    "second_date = date(2014, 10, 1)\n",
    "dif_date = second_date - first_date\n",
    "print(dif_date.days)"
   ]
  },
  {
   "cell_type": "code",
   "execution_count": 19,
   "metadata": {},
   "outputs": [
    {
     "name": "stdout",
     "output_type": "stream",
     "text": [
      "Initial Date: 13/10/2013\n",
      "Final Date: 16/10/2013\n",
      "There is 3 days in between 13/10/2013 and 16/10/2013\n"
     ]
    }
   ],
   "source": [
    "import datetime\n",
    "\n",
    "i = datetime.datetime.strptime(input('Initial Date: '), '%d/%m/%Y')\n",
    "f = datetime.datetime.strptime(input('Final Date: '), '%d/%m/%Y')\n",
    "dif = f - i\n",
    "print(f\"There is {dif.days} days in between {i.strftime('%d/%m/%Y')} and {f.strftime('%d/%m/%Y')}\")"
   ]
  },
  {
   "cell_type": "markdown",
   "metadata": {},
   "source": [
    "# 5) Calculate Volume of a sphere"
   ]
  },
  {
   "cell_type": "code",
   "execution_count": 30,
   "metadata": {},
   "outputs": [
    {
     "name": "stdout",
     "output_type": "stream",
     "text": [
      "Enter Radius of sphere: 1\n",
      "Volume of the sphere with radius 1.0 is 4.1887902047863905\n"
     ]
    }
   ],
   "source": [
    "from math import pi\n",
    "radius = float(input(\"Enter Radius of sphere: \"))\n",
    "print(\"Volume of the sphere with radius \" + str(radius) + \" is \" + str(4.0 / 3.0 * pi * radius**3))\n",
    "# Used fstring in first question and used concatenate method in this question"
   ]
  },
  {
   "cell_type": "markdown",
   "metadata": {},
   "source": [
    "# 6) Copy string n times"
   ]
  },
  {
   "cell_type": "code",
   "execution_count": 31,
   "metadata": {},
   "outputs": [
    {
     "name": "stdout",
     "output_type": "stream",
     "text": [
      "Enter String: AI\n",
      "How many copies of of String you need: 4\n",
      "4 Copies of AI are AIAIAIAI\n"
     ]
    }
   ],
   "source": [
    "strng = str(input(\"Enter String: \"))\n",
    "times = int(input(\"How many copies of of String you need: \"))\n",
    "result = strng * times\n",
    "print(f\"{times} Copies of {strng} are {result}\")"
   ]
  },
  {
   "cell_type": "markdown",
   "metadata": {},
   "source": [
    "# 7) Check if number is Even or Odd"
   ]
  },
  {
   "cell_type": "code",
   "execution_count": 33,
   "metadata": {},
   "outputs": [
    {
     "name": "stdout",
     "output_type": "stream",
     "text": [
      "Enter Number: 4\n",
      "4 is Even\n"
     ]
    }
   ],
   "source": [
    "number = int(input(\"Enter Number: \"))\n",
    "if number % 2 == 0:\n",
    "    print(f\"{number} is Even\")\n",
    "else:\n",
    "    print(f\"{number} is Odd\")"
   ]
  },
  {
   "cell_type": "code",
   "execution_count": 36,
   "metadata": {},
   "outputs": [
    {
     "name": "stdout",
     "output_type": "stream",
     "text": [
      "Enter Number: 9\n",
      "9 is Odd\n"
     ]
    }
   ],
   "source": [
    "number = int(input(\"Enter Number: \"))\n",
    "if number % 2 == 0:\n",
    "    print(f\"{number} is Even\")\n",
    "else:\n",
    "    print(f\"{number} is Odd\")"
   ]
  },
  {
   "cell_type": "markdown",
   "metadata": {},
   "source": [
    "# 7 - i) Vowel Tester"
   ]
  },
  {
   "cell_type": "code",
   "execution_count": 50,
   "metadata": {},
   "outputs": [
    {
     "name": "stdout",
     "output_type": "stream",
     "text": [
      "Enter a Character: A\n",
      "Letter A is Vowel\n"
     ]
    }
   ],
   "source": [
    "character = input(\"Enter a Character: \")\n",
    "if character in ('A', 'E', 'I', 'O', 'U'):\n",
    "    print(f\"Letter {character} is Vowel\")\n",
    "else:\n",
    "    print(f\"Letter {character} is Not Vowel\")"
   ]
  },
  {
   "cell_type": "code",
   "execution_count": 51,
   "metadata": {},
   "outputs": [
    {
     "name": "stdout",
     "output_type": "stream",
     "text": [
      "Enter a Character: G\n",
      "Letter G is Not Vowel\n"
     ]
    }
   ],
   "source": [
    "character = input(\"Enter a Character: \")\n",
    "if character in ('A', 'E', 'I', 'O', 'U'):\n",
    "    print(f\"Letter {character} is Vowel\")\n",
    "else:\n",
    "    print(f\"Letter {character} is Not Vowel\")"
   ]
  },
  {
   "cell_type": "markdown",
   "metadata": {},
   "source": [
    "# 8) Triangle area"
   ]
  },
  {
   "cell_type": "code",
   "execution_count": 60,
   "metadata": {},
   "outputs": [
    {
     "name": "stdout",
     "output_type": "stream",
     "text": [
      "Enter magnitude of Triangle base: 9\n",
      "Enter Magnitude of Triangle Height: 9\n",
      "Area of a Triangle with Height 9 and Base 9 is 40.5\n"
     ]
    }
   ],
   "source": [
    "base = int(input(\"Enter magnitude of Triangle base: \"))\n",
    "height = int(input(\"Enter Magnitude of Triangle Height: \"))\n",
    "area = base * height / 2\n",
    "print(f\"Area of a Triangle with Height {height} and Base {base} is {area}\")"
   ]
  },
  {
   "cell_type": "markdown",
   "metadata": {},
   "source": [
    "# 9) Calculate Interest"
   ]
  },
  {
   "cell_type": "code",
   "execution_count": 86,
   "metadata": {},
   "outputs": [
    {
     "name": "stdout",
     "output_type": "stream",
     "text": [
      "Please enter principal amount: 10000\n",
      "Please Enter Rate of interest in %: 0.1\n",
      "Enter number of years for investment: 5\n",
      "After 5.0 years your principal amount 10000.0 over an interest rate of 0.1 % will be 10050.100100050004\n"
     ]
    }
   ],
   "source": [
    "p = float(input(\"Please enter principal amount: \"))\n",
    "r = float(input(\"Please Enter Rate of interest in %: \"))\n",
    "t = float(input(\"Enter number of years for investment: \"))\n",
    "\n",
    "interest = p * (pow((1 + r / 100), t)) # This is compound interest formula\n",
    "\n",
    "print(f\"After {t} years your principal amount {p} over an interest rate of {r} % will be {interest}\")"
   ]
  },
  {
   "cell_type": "code",
   "execution_count": 89,
   "metadata": {},
   "outputs": [
    {
     "name": "stdout",
     "output_type": "stream",
     "text": [
      "Please enter principal amount: 10000\n",
      "Please Enter Rate of interest in %: 0.1\n",
      "Enter number of years for investment: 5\n",
      "After 5.0 years your principal amount 10000.0 over an interest rate of 0.1 % will be 50.0\n"
     ]
    }
   ],
   "source": [
    "p = float(input(\"Please enter principal amount: \"))\n",
    "r = float(input(\"Please Enter Rate of interest in %: \"))\n",
    "t = float(input(\"Enter number of years for investment: \"))\n",
    "\n",
    "interest = p * r * t / 100 # This is simple interest formula\n",
    "\n",
    "print(f\"After {t} years your principal amount {p} over an interest rate of {r} % will be {interest}\")"
   ]
  },
  {
   "cell_type": "markdown",
   "metadata": {},
   "source": [
    "# 10) Euclidean distance"
   ]
  },
  {
   "cell_type": "code",
   "execution_count": 101,
   "metadata": {},
   "outputs": [
    {
     "name": "stdout",
     "output_type": "stream",
     "text": [
      "Enter Co-ordinate for x1: 5\n",
      "Enter Co-ordinate for x2: 6\n",
      "Enter Co-ordinate for y1: 7\n",
      "Enter Co-ordinate for y2: 9\n",
      "Distance between points (5.0, 7.0) and (6.0, 9.0) is 2.23606797749979\n"
     ]
    }
   ],
   "source": [
    "import math\n",
    "\n",
    "x1 = float(input(\"Enter Co-ordinate for x1: \"))\n",
    "x2 = float(input(\"Enter Co-ordinate for x2: \"))\n",
    "y1 = float(input(\"Enter Co-ordinate for y1: \"))\n",
    "y2 = float(input(\"Enter Co-ordinate for y2: \"))\n",
    "distance = math.sqrt( ((x2 - x1) ** 2) + ((y2 - y1) ** 2) )\n",
    "print(f\"Distance between points ({x1}, {y1}) and ({x2}, {y2}) is {distance}\")"
   ]
  },
  {
   "cell_type": "markdown",
   "metadata": {},
   "source": [
    "# 11) Feet to Centimeter Converter"
   ]
  },
  {
   "cell_type": "code",
   "execution_count": 103,
   "metadata": {},
   "outputs": [
    {
     "name": "stdout",
     "output_type": "stream",
     "text": [
      "Enter Height in Feet: 6.8\n",
      "There are 207.264 Cm in 6.8 ft\n"
     ]
    }
   ],
   "source": [
    "ft = float(input(\"Enter Height in Feet: \"))\n",
    "result = ft * 30.48\n",
    "print(f\"There are {result} Cm in {ft} ft\")"
   ]
  },
  {
   "cell_type": "markdown",
   "metadata": {},
   "source": [
    "# 12) BMI Calculator"
   ]
  },
  {
   "cell_type": "code",
   "execution_count": 106,
   "metadata": {},
   "outputs": [
    {
     "name": "stdout",
     "output_type": "stream",
     "text": [
      "Enter Height in Cm: 190\n",
      "Enter Weight in Kg: 65\n",
      "Your BMI is 18.005540166204987\n"
     ]
    }
   ],
   "source": [
    "h_cm = float(input(\"Enter Height in Cm: \"))\n",
    "w_kg = float(input(\"Enter Weight in Kg: \"))\n",
    "result = w_kg / (h_cm / 100) ** 2 #Converting cm to mtrs by dividing from 100\n",
    "print(f\"Your BMI is {result}\")"
   ]
  },
  {
   "cell_type": "markdown",
   "metadata": {},
   "source": [
    "# 13) Sum of n Positive Integers"
   ]
  },
  {
   "cell_type": "code",
   "execution_count": 111,
   "metadata": {},
   "outputs": [
    {
     "name": "stdout",
     "output_type": "stream",
     "text": [
      "Enter Value of n: 6\n",
      "Sum of n Positive integars till 6 is 21.0\n"
     ]
    }
   ],
   "source": [
    "n = int(input(\"Enter Value of n: \"))\n",
    "sum_n = (n * (n + 1)) / 2\n",
    "print(f\"Sum of n Positive integars till {n} is {sum_n}\")"
   ]
  },
  {
   "cell_type": "markdown",
   "metadata": {},
   "source": [
    "# 14) Digits Sum of a Number"
   ]
  },
  {
   "cell_type": "code",
   "execution_count": 16,
   "metadata": {},
   "outputs": [
    {
     "name": "stdout",
     "output_type": "stream",
     "text": [
      "Enter a number: 76\n",
      "Sum of 7 + 6.0 is 13.0\n"
     ]
    }
   ],
   "source": [
    "dig = float(input(\"Enter a number: \"))\n",
    "res = 0\n",
    "hold = dig\n",
    "\n",
    "while dig > 0:\n",
    "    rem = dig % 10\n",
    "    res = res + rem\n",
    "    dig = int(dig / 10)\n",
    "print(f\"Sum of {rem} + {hold % 10} is {res}\")"
   ]
  },
  {
   "cell_type": "code",
   "execution_count": 19,
   "metadata": {},
   "outputs": [
    {
     "name": "stdout",
     "output_type": "stream",
     "text": [
      "Enter a number: 76\n",
      "Sum of 7 + 6.0 is 13.0\n"
     ]
    }
   ],
   "source": [
    "dig = float(input(\"Enter a number: \"))\n",
    "res = 0\n",
    "hold = dig\n",
    "\n",
    "while dig > 0:\n",
    "    rem = dig % 10\n",
    "    res = res + rem\n",
    "    dig = int(dig / 10)\n",
    "print(f\"Sum of {rem} + {hold % 10} is {res}\")"
   ]
  },
  {
   "cell_type": "code",
   "execution_count": 18,
   "metadata": {},
   "outputs": [
    {
     "name": "stdout",
     "output_type": "stream",
     "text": [
      "Enter a number: 4562\n",
      "Sum of 4 + 5 + 6 + 2 is 17\n"
     ]
    }
   ],
   "source": [
    "num = int(input(\"Enter a number: \")) \n",
    "x = num // 1000 \n",
    "x1 = (num - x * 1000) // 100 \n",
    "x2 = (num - x * 1000 - x1 * 100) // 10 \n",
    "x3 = num - x * 1000 - x1 * 100 - x2 * 10\n",
    "print(f\"Sum of {x} + {x1} + {x2} + {x3} is\", x + x1 + x2 + x3)"
   ]
  },
  {
   "cell_type": "markdown",
   "metadata": {},
   "source": [
    "# 15) Decimal to Binary Converter"
   ]
  },
  {
   "cell_type": "code",
   "execution_count": 41,
   "metadata": {},
   "outputs": [
    {
     "name": "stdout",
     "output_type": "stream",
     "text": [
      "Enter a decimal number: 6\n",
      "Binary Representation of 6 is 110\n"
     ]
    }
   ],
   "source": [
    "dec = int(input(\"Enter a decimal number: \"))\n",
    "print(f\"Binary Representation of {dec} is\", bin(dec).replace(\"0b\", \"\"))"
   ]
  },
  {
   "cell_type": "code",
   "execution_count": 42,
   "metadata": {},
   "outputs": [
    {
     "name": "stdout",
     "output_type": "stream",
     "text": [
      "Enter a decimal number: 66\n",
      "Binary Representation of 66 is 1000010\n"
     ]
    }
   ],
   "source": [
    "dec = int(input(\"Enter a decimal number: \"))\n",
    "print(f\"Binary Representation of {dec} is\", bin(dec).replace(\"0b\", \"\"))"
   ]
  },
  {
   "cell_type": "markdown",
   "metadata": {},
   "source": [
    "# 16) Binary to Decimal Converter"
   ]
  },
  {
   "cell_type": "code",
   "execution_count": 86,
   "metadata": {},
   "outputs": [
    {
     "name": "stdout",
     "output_type": "stream",
     "text": [
      "Enter a Binary Number: 101\n",
      "Decimal Representation of 101 is 5\n"
     ]
    }
   ],
   "source": [
    "binary = list(input(\"Enter a Binary Number: \"))\n",
    "res = 0\n",
    "\n",
    "for x in range(len(binary)):\n",
    "    num = binary.pop()\n",
    "    if num == '1':\n",
    "        res = res + pow(2, x)\n",
    "print(f\"Decimal Representation of {bin(res).replace('0b', '')} is\", res)"
   ]
  },
  {
   "cell_type": "code",
   "execution_count": 87,
   "metadata": {},
   "outputs": [
    {
     "name": "stdout",
     "output_type": "stream",
     "text": [
      "Enter a Binary Number: 11001\n",
      "Decimal Representation of 11001 is 25\n"
     ]
    }
   ],
   "source": [
    "binary = list(input(\"Enter a Binary Number: \"))\n",
    "res = 0\n",
    "\n",
    "for x in range(len(binary)):\n",
    "    num = binary.pop()\n",
    "    if num == '1':\n",
    "        res = res + pow(2, x)\n",
    "print(f\"Decimal Representation of {bin(res).replace('0b', '')} is\", res)"
   ]
  },
  {
   "cell_type": "markdown",
   "metadata": {},
   "source": [
    "# 17) Vowel and Consonants Counter"
   ]
  },
  {
   "cell_type": "code",
   "execution_count": 90,
   "metadata": {},
   "outputs": [
    {
     "name": "stdout",
     "output_type": "stream",
     "text": [
      "Enter your text here: Master Mind\n",
      "Vowels: 3\n",
      "Consonants: 8\n"
     ]
    }
   ],
   "source": [
    "phrase = input(\"Enter your text here: \")\n",
    "vowels = 0\n",
    "consonants = 0\n",
    "\n",
    "for x in phrase:\n",
    "    if(x == 'a' or x =='e' or x == 'i' or x == 'o' or x == 'u' or x =='A' or x == 'E' or x == 'I' or x == 'U'):\n",
    "        vowels += 1\n",
    "    else:\n",
    "        consonants += 1\n",
    "print(f\"Vowels: {vowels}\")\n",
    "print(f\"Consonants: {consonants}\")"
   ]
  },
  {
   "cell_type": "markdown",
   "metadata": {},
   "source": [
    "# 18) Palindrome tester"
   ]
  },
  {
   "cell_type": "code",
   "execution_count": 98,
   "metadata": {},
   "outputs": [
    {
     "name": "stdout",
     "output_type": "stream",
     "text": [
      "Enter text for testing: maxam\n",
      "The Word maxam is Palindrome\n"
     ]
    }
   ],
   "source": [
    "palind = input(\"Enter text for testing: \")\n",
    "palind = palind.casefold()\n",
    "rev_palind = reversed(palind)\n",
    "if list(palind) == list(rev_palind):\n",
    "    print(f\"The Word {palind} is Palindrome\")\n",
    "else:\n",
    "    print(f\"The word {palind} is not Palindrome\")"
   ]
  },
  {
   "cell_type": "code",
   "execution_count": 99,
   "metadata": {},
   "outputs": [
    {
     "name": "stdout",
     "output_type": "stream",
     "text": [
      "Enter text for testing: Karachi\n",
      "The word karachi is not Palindrome\n"
     ]
    }
   ],
   "source": [
    "palind = input(\"Enter text for testing: \")\n",
    "palind = palind.casefold()\n",
    "rev_palind = reversed(palind)\n",
    "if list(palind) == list(rev_palind):\n",
    "    print(f\"The Word {palind} is Palindrome\")\n",
    "else:\n",
    "    print(f\"The word {palind} is not Palindrome\")"
   ]
  },
  {
   "cell_type": "markdown",
   "metadata": {},
   "source": [
    "# 19) Count Alphabets, Numbers and Special Characters"
   ]
  },
  {
   "cell_type": "code",
   "execution_count": 109,
   "metadata": {},
   "outputs": [
    {
     "name": "stdout",
     "output_type": "stream",
     "text": [
      "Enter the phrase for counting: Moen jo Daro 2.0\n",
      "Numbers : 2\n",
      "Alphabets: 10\n",
      "Special Character: 1\n",
      "space: 3\n"
     ]
    }
   ],
   "source": [
    "counting = input(\"Enter the phrase for counting: \")\n",
    "alphabets = numbers = spcr = space = 0\n",
    "for x in range(len(counting)):\n",
    "    if(counting[x].isalpha()):\n",
    "        alphabets += 1\n",
    "    elif(counting[x].isdigit()):\n",
    "        numbers += 1\n",
    "    elif(counting[x].isspace()):\n",
    "        space += 1\n",
    "    else:\n",
    "        spcr += 1\n",
    "print(f\"Numbers :\", numbers)\n",
    "print(f\"Alphabets:\", alphabets)\n",
    "print(f\"Special Character:\", spcr)\n",
    "print(f\"space:\", space)"
   ]
  },
  {
   "cell_type": "markdown",
   "metadata": {},
   "source": [
    "# 20) Pyramid Pattern of \"*\""
   ]
  },
  {
   "cell_type": "code",
   "execution_count": 113,
   "metadata": {},
   "outputs": [
    {
     "name": "stdout",
     "output_type": "stream",
     "text": [
      "\n",
      "* \n",
      "* * \n",
      "* * * \n",
      "* * * * \n",
      "* * * * * \n",
      "* * * * * * \n",
      "* * * * * * * \n",
      "* * * * * * * * \n",
      "* * * * * * * * * \n",
      "* * * * * * * * * * \n",
      "* * * * * * * * * \n",
      "* * * * * * * * \n",
      "* * * * * * * \n",
      "* * * * * * \n",
      "* * * * * \n",
      "* * * * \n",
      "* * * \n",
      "* * \n",
      "* \n"
     ]
    }
   ],
   "source": [
    "n = 10;\n",
    "for a in range(n):\n",
    "    for b in range(a):\n",
    "        print('* ', end = \"\")\n",
    "    print('')\n",
    "for a in range (n, 0, -1):\n",
    "    for b in range(a):\n",
    "        print('* ', end = \"\")\n",
    "    print('')"
   ]
  },
  {
   "cell_type": "markdown",
   "metadata": {},
   "source": [
    "# 21) Numerical Pattern part 1"
   ]
  },
  {
   "cell_type": "code",
   "execution_count": 209,
   "metadata": {},
   "outputs": [
    {
     "name": "stdout",
     "output_type": "stream",
     "text": [
      "1\n",
      "12\n",
      "123\n",
      "1234\n",
      "12345\n",
      "1234\n",
      "123\n",
      "12\n",
      "1\n"
     ]
    }
   ],
   "source": [
    "for a in range(1, 6):\n",
    "    for b in range(1, a + 1):\n",
    "        print(b, end = \"\")\n",
    "    print('')\n",
    "for a in range (4, 0, - 1):\n",
    "    for b in range(1, a + 1):\n",
    "        print(b, end = \"\")\n",
    "    print('')"
   ]
  },
  {
   "cell_type": "markdown",
   "metadata": {},
   "source": [
    "# 22) Numerical Pattern part 2"
   ]
  },
  {
   "cell_type": "code",
   "execution_count": 194,
   "metadata": {},
   "outputs": [
    {
     "name": "stdout",
     "output_type": "stream",
     "text": [
      "1\n",
      "22\n",
      "333\n",
      "4444\n",
      "55555\n",
      "666666\n",
      "7777777\n",
      "88888888\n",
      "999999999\n"
     ]
    }
   ],
   "source": [
    "for a in range(1, 10):\n",
    "    for b in range(1, a + 1):\n",
    "        print(a, end = \"\")\n",
    "    print('')"
   ]
  },
  {
   "cell_type": "code",
   "execution_count": null,
   "metadata": {},
   "outputs": [],
   "source": []
  }
 ],
 "metadata": {
  "kernelspec": {
   "display_name": "Python 3",
   "language": "python",
   "name": "python3"
  },
  "language_info": {
   "codemirror_mode": {
    "name": "ipython",
    "version": 3
   },
   "file_extension": ".py",
   "mimetype": "text/x-python",
   "name": "python",
   "nbconvert_exporter": "python",
   "pygments_lexer": "ipython3",
   "version": "3.7.3"
  }
 },
 "nbformat": 4,
 "nbformat_minor": 2
}
