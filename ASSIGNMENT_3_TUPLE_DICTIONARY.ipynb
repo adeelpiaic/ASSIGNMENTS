{
 "cells": [
  {
   "cell_type": "markdown",
   "metadata": {},
   "source": [
    "# ASSIGNMENT NO.3\n",
    "# METHODS & ATTRIBUTES OF TUPLE & DICTIONARY\n",
    "# DYNAMICALLY PRINT LIST, STRING, TUPLE & DICTIONARY ATTRIBUTES"
   ]
  },
  {
   "cell_type": "markdown",
   "metadata": {},
   "source": [
    "# A) TUPLE"
   ]
  },
  {
   "cell_type": "code",
   "execution_count": 1,
   "metadata": {},
   "outputs": [
    {
     "name": "stdout",
     "output_type": "stream",
     "text": [
      "t1= ()\n",
      "t2= ('PIAIC', 'TEST', 'AI', 'CLASS', 'PRACTICE')\n",
      "t1= ('J', 'u', 'p', 'y', 't', 'e', 'r')\n",
      "t1= (1, 2)\n"
     ]
    }
   ],
   "source": [
    "#Tuple is an immutable sequence type.\n",
    "t1 = tuple()\n",
    "print('t1=', t1)\n",
    "\n",
    "# creating a tuple from a list\n",
    "t2 = tuple([\"PIAIC\", \"TEST\", \"AI\", \"CLASS\", \"PRACTICE\"])\n",
    "print('t2=', t2)\n",
    "\n",
    "# creating a tuple from a string\n",
    "t1 = tuple('Jupyter')\n",
    "print('t1=',t1)\n",
    "\n",
    "# creating a tuple from a dictionary\n",
    "t1 = tuple({1: 'one', 2: 'two'})\n",
    "print('t1=',t1)"
   ]
  },
  {
   "cell_type": "code",
   "execution_count": 2,
   "metadata": {},
   "outputs": [
    {
     "name": "stdout",
     "output_type": "stream",
     "text": [
      "Total Number of PIAIC in tuple: 1\n",
      "The index number of CLASS is: 3\n"
     ]
    }
   ],
   "source": [
    "#Methods of Tuple\n",
    "\n",
    "#The count() method returns the number of occurrences of an element in a tuple.\n",
    "\n",
    "t1 = ('PIAIC', 'TEST', 'AI', 'CLASS', 'PRACTICE')\n",
    "count = t1.count('PIAIC')\n",
    "print(\"Total Number of PIAIC in tuple:\", count)\n",
    "\n",
    "# The index() method searches an element in a tuple and returns its index.\n",
    "\n",
    "index = t1.index('CLASS')\n",
    "print(\"The index number of CLASS is:\", index)"
   ]
  },
  {
   "cell_type": "markdown",
   "metadata": {},
   "source": [
    "# B) DICTIONARY"
   ]
  },
  {
   "cell_type": "code",
   "execution_count": 5,
   "metadata": {},
   "outputs": [
    {
     "name": "stdout",
     "output_type": "stream",
     "text": [
      "{}\n",
      "AI\n"
     ]
    }
   ],
   "source": [
    "# Dictionary are mutable. We can add new items or change the value of existing items using assignment operator.\n",
    "\n",
    "dicti = {}\n",
    "print(dic)\n",
    "\n",
    "dici1 = {'course': 'AI', 'class': 'Boys Scout'}\n",
    "d3 = {\n",
    "    'Teacher': 'Engg. Muhammad Qasim'\n",
    "    'Assignment': 'No.3'\n",
    "}\n",
    "print(dici1['course'])"
   ]
  },
  {
   "cell_type": "markdown",
   "metadata": {},
   "source": [
    "# METHOD & ATTRIBUTE OF DICTIONARY"
   ]
  },
  {
   "cell_type": "code",
   "execution_count": 27,
   "metadata": {},
   "outputs": [
    {
     "name": "stdout",
     "output_type": "stream",
     "text": [
      "None\n",
      "{'initiate': 'PIAIC', 'course': 'AI', 'Class': 'Boys scout'}\n",
      "{'initiate': 'Teacher: Engg. Muhammad Qasim', 'course': 'Teacher: Engg. Muhammad Qasim', 'Class': 'Teacher: Engg. Muhammad Qasim'}\n",
      "AI\n",
      "dict_items([('initiate', 'PIAIC'), ('course', 'AI'), ('Class', 'Boys scout')])\n",
      "dict_keys(['initiate', 'course', 'Class'])\n",
      "Boys scout\n",
      "('course', 'AI')\n",
      "PIAIC\n",
      "dict_values(['PIAIC', 'Sir Zia Khan'])\n"
     ]
    }
   ],
   "source": [
    "print(dici1.clear()) #Remove all items form the dictionary.\n",
    "d2 = {'initiate': 'PIAIC', 'course': 'AI', 'Class': 'Boys scout'}\n",
    "d3 = 'Teacher: Engg. Muhammad Qasim'\n",
    "print(d2.copy()) #Return a shallow copy of the dictionary.\n",
    "print(dict.fromkeys(d2, d3))#Return a new dictionary with specified keys and values\n",
    "print(d2.get(\"course\")) #Return the specicified value of a key \n",
    "print(d2.items()) #Return a new view of the dictionary's items\n",
    "print(d2.keys())\n",
    "print(d2.pop('Class'))\n",
    "print(d2.popitem())\n",
    "print(d2.setdefault('initiate'))\n",
    "d2.update({'Founder': 'Sir Zia Khan'})\n",
    "print(d2.values())"
   ]
  },
  {
   "cell_type": "markdown",
   "metadata": {},
   "source": [
    "# DYNAMICALLY PRINT LIST, STRING, TUPLE & DICTIONARY ATTRIBUTES THROUGH LOOP"
   ]
  },
  {
   "cell_type": "code",
   "execution_count": 32,
   "metadata": {},
   "outputs": [
    {
     "name": "stdout",
     "output_type": "stream",
     "text": [
      "<method-wrapper '__add__' of list object at 0x7f50d4077888>\n",
      "<class 'list'>\n",
      "<method-wrapper '__contains__' of list object at 0x7f50d4077888>\n",
      "<method-wrapper '__delattr__' of list object at 0x7f50d4077888>\n",
      "<method-wrapper '__delitem__' of list object at 0x7f50d4077888>\n",
      "<built-in method __dir__ of list object at 0x7f50d4077888>\n",
      "Built-in mutable sequence.\n",
      "\n",
      "If no argument is given, the constructor creates a new empty list.\n",
      "The argument must be an iterable if specified.\n",
      "<method-wrapper '__eq__' of list object at 0x7f50d4077888>\n",
      "<built-in method __format__ of list object at 0x7f50d4077888>\n",
      "<method-wrapper '__ge__' of list object at 0x7f50d4077888>\n",
      "<method-wrapper '__getattribute__' of list object at 0x7f50d4077888>\n",
      "<built-in method __getitem__ of list object at 0x7f50d4077888>\n",
      "<method-wrapper '__gt__' of list object at 0x7f50d4077888>\n",
      "None\n",
      "<method-wrapper '__iadd__' of list object at 0x7f50d4077888>\n",
      "<method-wrapper '__imul__' of list object at 0x7f50d4077888>\n",
      "<method-wrapper '__init__' of list object at 0x7f50d4077888>\n",
      "<built-in method __init_subclass__ of type object at 0x563775d3bb00>\n",
      "<method-wrapper '__iter__' of list object at 0x7f50d4077888>\n",
      "<method-wrapper '__le__' of list object at 0x7f50d4077888>\n",
      "<method-wrapper '__len__' of list object at 0x7f50d4077888>\n",
      "<method-wrapper '__lt__' of list object at 0x7f50d4077888>\n",
      "<method-wrapper '__mul__' of list object at 0x7f50d4077888>\n",
      "<method-wrapper '__ne__' of list object at 0x7f50d4077888>\n",
      "<built-in method __new__ of type object at 0x563775d3bb00>\n",
      "<built-in method __reduce__ of list object at 0x7f50d4077888>\n",
      "<built-in method __reduce_ex__ of list object at 0x7f50d4077888>\n",
      "<method-wrapper '__repr__' of list object at 0x7f50d4077888>\n",
      "<built-in method __reversed__ of list object at 0x7f50d4077888>\n",
      "<method-wrapper '__rmul__' of list object at 0x7f50d4077888>\n",
      "<method-wrapper '__setattr__' of list object at 0x7f50d4077888>\n",
      "<method-wrapper '__setitem__' of list object at 0x7f50d4077888>\n",
      "<built-in method __sizeof__ of list object at 0x7f50d4077888>\n",
      "<method-wrapper '__str__' of list object at 0x7f50d4077888>\n",
      "<built-in method __subclasshook__ of type object at 0x563775d3bb00>\n"
     ]
    }
   ],
   "source": [
    "# Dynamically Print \"List\" attributes\n",
    "\n",
    "l = []\n",
    "for x in dir(l)[:35]:\n",
    "    print(getattr(l,x))"
   ]
  },
  {
   "cell_type": "code",
   "execution_count": 36,
   "metadata": {},
   "outputs": [
    {
     "name": "stdout",
     "output_type": "stream",
     "text": [
      "<method-wrapper '__add__' of str object at 0x7f50dc964c70>\n",
      "<class 'str'>\n",
      "<method-wrapper '__contains__' of str object at 0x7f50dc964c70>\n",
      "<method-wrapper '__delattr__' of str object at 0x7f50dc964c70>\n",
      "<built-in method __dir__ of str object at 0x7f50dc964c70>\n",
      "str(object='') -> str\n",
      "str(bytes_or_buffer[, encoding[, errors]]) -> str\n",
      "\n",
      "Create a new string object from the given object. If encoding or\n",
      "errors is specified, then the object must expose a data buffer\n",
      "that will be decoded using the given encoding and error handler.\n",
      "Otherwise, returns the result of object.__str__() (if defined)\n",
      "or repr(object).\n",
      "encoding defaults to sys.getdefaultencoding().\n",
      "errors defaults to 'strict'.\n",
      "<method-wrapper '__eq__' of str object at 0x7f50dc964c70>\n",
      "<built-in method __format__ of str object at 0x7f50dc964c70>\n",
      "<method-wrapper '__ge__' of str object at 0x7f50dc964c70>\n",
      "<method-wrapper '__getattribute__' of str object at 0x7f50dc964c70>\n",
      "<method-wrapper '__getitem__' of str object at 0x7f50dc964c70>\n",
      "<built-in method __getnewargs__ of str object at 0x7f50dc964c70>\n",
      "<method-wrapper '__gt__' of str object at 0x7f50dc964c70>\n",
      "<method-wrapper '__hash__' of str object at 0x7f50dc964c70>\n",
      "<method-wrapper '__init__' of str object at 0x7f50dc964c70>\n",
      "<built-in method __init_subclass__ of type object at 0x563775d38220>\n",
      "<method-wrapper '__iter__' of str object at 0x7f50dc964c70>\n",
      "<method-wrapper '__le__' of str object at 0x7f50dc964c70>\n",
      "<method-wrapper '__len__' of str object at 0x7f50dc964c70>\n",
      "<method-wrapper '__lt__' of str object at 0x7f50dc964c70>\n",
      "<method-wrapper '__mod__' of str object at 0x7f50dc964c70>\n",
      "<method-wrapper '__mul__' of str object at 0x7f50dc964c70>\n",
      "<method-wrapper '__ne__' of str object at 0x7f50dc964c70>\n",
      "<built-in method __new__ of type object at 0x563775d38220>\n",
      "<built-in method __reduce__ of str object at 0x7f50dc964c70>\n",
      "<built-in method __reduce_ex__ of str object at 0x7f50dc964c70>\n",
      "<method-wrapper '__repr__' of str object at 0x7f50dc964c70>\n",
      "<method-wrapper '__rmod__' of str object at 0x7f50dc964c70>\n",
      "<method-wrapper '__rmul__' of str object at 0x7f50dc964c70>\n",
      "<method-wrapper '__setattr__' of str object at 0x7f50dc964c70>\n",
      "<built-in method __sizeof__ of str object at 0x7f50dc964c70>\n",
      "<method-wrapper '__str__' of str object at 0x7f50dc964c70>\n",
      "<built-in method __subclasshook__ of type object at 0x563775d38220>\n"
     ]
    }
   ],
   "source": [
    "# Dynamically Print \"String\" attributes\n",
    "\n",
    "s = \"\"\n",
    "for a in dir(s)[:33]:\n",
    "    print(getattr(s,a))"
   ]
  },
  {
   "cell_type": "code",
   "execution_count": 39,
   "metadata": {},
   "outputs": [
    {
     "name": "stdout",
     "output_type": "stream",
     "text": [
      "<method-wrapper '__add__' of tuple object at 0x7f50dc93d048>\n",
      "<class 'tuple'>\n",
      "<method-wrapper '__contains__' of tuple object at 0x7f50dc93d048>\n",
      "<method-wrapper '__delattr__' of tuple object at 0x7f50dc93d048>\n",
      "<built-in method __dir__ of tuple object at 0x7f50dc93d048>\n",
      "Built-in immutable sequence.\n",
      "\n",
      "If no argument is given, the constructor returns an empty tuple.\n",
      "If iterable is specified the tuple is initialized from iterable's items.\n",
      "\n",
      "If the argument is a tuple, the return value is the same object.\n",
      "<method-wrapper '__eq__' of tuple object at 0x7f50dc93d048>\n",
      "<built-in method __format__ of tuple object at 0x7f50dc93d048>\n",
      "<method-wrapper '__ge__' of tuple object at 0x7f50dc93d048>\n",
      "<method-wrapper '__getattribute__' of tuple object at 0x7f50dc93d048>\n",
      "<method-wrapper '__getitem__' of tuple object at 0x7f50dc93d048>\n",
      "<built-in method __getnewargs__ of tuple object at 0x7f50dc93d048>\n",
      "<method-wrapper '__gt__' of tuple object at 0x7f50dc93d048>\n",
      "<method-wrapper '__hash__' of tuple object at 0x7f50dc93d048>\n",
      "<method-wrapper '__init__' of tuple object at 0x7f50dc93d048>\n",
      "<built-in method __init_subclass__ of type object at 0x563775d388a0>\n",
      "<method-wrapper '__iter__' of tuple object at 0x7f50dc93d048>\n",
      "<method-wrapper '__le__' of tuple object at 0x7f50dc93d048>\n",
      "<method-wrapper '__len__' of tuple object at 0x7f50dc93d048>\n",
      "<method-wrapper '__lt__' of tuple object at 0x7f50dc93d048>\n",
      "<method-wrapper '__mul__' of tuple object at 0x7f50dc93d048>\n",
      "<method-wrapper '__ne__' of tuple object at 0x7f50dc93d048>\n",
      "<built-in method __new__ of type object at 0x563775d388a0>\n",
      "<built-in method __reduce__ of tuple object at 0x7f50dc93d048>\n",
      "<built-in method __reduce_ex__ of tuple object at 0x7f50dc93d048>\n",
      "<method-wrapper '__repr__' of tuple object at 0x7f50dc93d048>\n",
      "<method-wrapper '__rmul__' of tuple object at 0x7f50dc93d048>\n",
      "<method-wrapper '__setattr__' of tuple object at 0x7f50dc93d048>\n",
      "<built-in method __sizeof__ of tuple object at 0x7f50dc93d048>\n",
      "<method-wrapper '__str__' of tuple object at 0x7f50dc93d048>\n",
      "<built-in method __subclasshook__ of type object at 0x563775d388a0>\n"
     ]
    }
   ],
   "source": [
    "# Dynamically Print \"Tuple\" attributes\n",
    "\n",
    "t = ()\n",
    "for b in dir(t)[:31]:\n",
    "    print(getattr(t,b))"
   ]
  },
  {
   "cell_type": "code",
   "execution_count": 42,
   "metadata": {},
   "outputs": [
    {
     "name": "stdout",
     "output_type": "stream",
     "text": [
      "<class 'dict'>\n",
      "<built-in method __contains__ of dict object at 0x7f50d4401c60>\n",
      "<method-wrapper '__delattr__' of dict object at 0x7f50d4401c60>\n",
      "<method-wrapper '__delitem__' of dict object at 0x7f50d4401c60>\n",
      "<built-in method __dir__ of dict object at 0x7f50d4401c60>\n",
      "dict() -> new empty dictionary\n",
      "dict(mapping) -> new dictionary initialized from a mapping object's\n",
      "    (key, value) pairs\n",
      "dict(iterable) -> new dictionary initialized as if via:\n",
      "    d = {}\n",
      "    for k, v in iterable:\n",
      "        d[k] = v\n",
      "dict(**kwargs) -> new dictionary initialized with the name=value pairs\n",
      "    in the keyword argument list.  For example:  dict(one=1, two=2)\n",
      "<method-wrapper '__eq__' of dict object at 0x7f50d4401c60>\n",
      "<built-in method __format__ of dict object at 0x7f50d4401c60>\n",
      "<method-wrapper '__ge__' of dict object at 0x7f50d4401c60>\n",
      "<method-wrapper '__getattribute__' of dict object at 0x7f50d4401c60>\n",
      "<built-in method __getitem__ of dict object at 0x7f50d4401c60>\n",
      "<method-wrapper '__gt__' of dict object at 0x7f50d4401c60>\n",
      "None\n",
      "<method-wrapper '__init__' of dict object at 0x7f50d4401c60>\n",
      "<built-in method __init_subclass__ of type object at 0x563775d3b480>\n",
      "<method-wrapper '__iter__' of dict object at 0x7f50d4401c60>\n",
      "<method-wrapper '__le__' of dict object at 0x7f50d4401c60>\n",
      "<method-wrapper '__len__' of dict object at 0x7f50d4401c60>\n",
      "<method-wrapper '__lt__' of dict object at 0x7f50d4401c60>\n",
      "<method-wrapper '__ne__' of dict object at 0x7f50d4401c60>\n",
      "<built-in method __new__ of type object at 0x563775d3b480>\n",
      "<built-in method __reduce__ of dict object at 0x7f50d4401c60>\n",
      "<built-in method __reduce_ex__ of dict object at 0x7f50d4401c60>\n",
      "<method-wrapper '__repr__' of dict object at 0x7f50d4401c60>\n",
      "<method-wrapper '__setattr__' of dict object at 0x7f50d4401c60>\n",
      "<method-wrapper '__setitem__' of dict object at 0x7f50d4401c60>\n",
      "<built-in method __sizeof__ of dict object at 0x7f50d4401c60>\n",
      "<method-wrapper '__str__' of dict object at 0x7f50d4401c60>\n",
      "<built-in method __subclasshook__ of type object at 0x563775d3b480>\n"
     ]
    }
   ],
   "source": [
    "# Dynamically Print \"Dictionary\" attributes\n",
    "\n",
    "d = {}\n",
    "for c in dir(d)[:29]:\n",
    "    print(getattr(d,c))"
   ]
  },
  {
   "cell_type": "code",
   "execution_count": null,
   "metadata": {},
   "outputs": [],
   "source": []
  }
 ],
 "metadata": {
  "kernelspec": {
   "display_name": "Python 3",
   "language": "python",
   "name": "python3"
  },
  "language_info": {
   "codemirror_mode": {
    "name": "ipython",
    "version": 3
   },
   "file_extension": ".py",
   "mimetype": "text/x-python",
   "name": "python",
   "nbconvert_exporter": "python",
   "pygments_lexer": "ipython3",
   "version": "3.7.3"
  }
 },
 "nbformat": 4,
 "nbformat_minor": 2
}
