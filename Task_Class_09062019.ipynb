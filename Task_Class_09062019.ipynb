{
 "cells": [
  {
   "cell_type": "code",
   "execution_count": 5,
   "metadata": {},
   "outputs": [
    {
     "name": "stdout",
     "output_type": "stream",
     "text": [
      "1\n",
      "2\n",
      "3\n",
      "4\n",
      "5\n",
      "6\n",
      "7\n",
      "8\n",
      "9\n",
      "10\n"
     ]
    }
   ],
   "source": [
    "for i in range(1, 11):\n",
    "    print(i)"
   ]
  },
  {
   "cell_type": "code",
   "execution_count": 15,
   "metadata": {},
   "outputs": [
    {
     "name": "stdout",
     "output_type": "stream",
     "text": [
      "10500\n",
      "21000\n",
      "31500\n",
      "42000\n",
      "52500\n",
      "63000\n",
      "73500\n",
      "84000\n",
      "94500\n"
     ]
    }
   ],
   "source": [
    "for i in range(1, 100001):\n",
    "    if i % 7 == 0 and i % 50 == 0 and i % 500 == 0 and i % 1500 ==0:\n",
    "        print(i)"
   ]
  },
  {
   "cell_type": "code",
   "execution_count": 16,
   "metadata": {},
   "outputs": [
    {
     "name": "stdout",
     "output_type": "stream",
     "text": [
      "2 x 1 = 2\n",
      "2 x 2 = 4\n",
      "2 x 3 = 6\n",
      "2 x 4 = 8\n",
      "2 x 5 = 10\n",
      "2 x 6 = 12\n",
      "2 x 7 = 14\n",
      "2 x 8 = 16\n",
      "2 x 9 = 18\n",
      "2 x 10 = 20\n"
     ]
    }
   ],
   "source": [
    "num = 2\n",
    "for i in range(1, 11):\n",
    "    print(num, 'x', i, '=', num*i)"
   ]
  },
  {
   "cell_type": "code",
   "execution_count": 8,
   "metadata": {},
   "outputs": [
    {
     "name": "stdout",
     "output_type": "stream",
     "text": [
      "2 x 1 = 2 \t\t 3 x 1 = 3 \t\t 4 x 1 = 4\n",
      "2 x 2 = 4 \t\t 3 x 2 = 6 \t\t 4 x 2 = 8\n",
      "2 x 3 = 6 \t\t 3 x 3 = 9 \t\t 4 x 3 = 12\n",
      "2 x 4 = 8 \t\t 3 x 4 = 12 \t\t 4 x 4 = 16\n",
      "2 x 5 = 10 \t\t 3 x 5 = 15 \t\t 4 x 5 = 20\n",
      "2 x 6 = 12 \t\t 3 x 6 = 18 \t\t 4 x 6 = 24\n",
      "2 x 7 = 14 \t\t 3 x 7 = 21 \t\t 4 x 7 = 28\n",
      "2 x 8 = 16 \t\t 3 x 8 = 24 \t\t 4 x 8 = 32\n",
      "2 x 9 = 18 \t\t 3 x 9 = 27 \t\t 4 x 9 = 36\n",
      "2 x 10 = 20 \t\t 3 x 10 = 30 \t\t 4 x 10 = 40\n"
     ]
    }
   ],
   "source": [
    "a = 2\n",
    "b = 3\n",
    "c = 4\n",
    "for i in range(1, 11):\n",
    "    print(a, 'x', i, '=', a*i, \"\\t\\t\", b, 'x', i, '=', b*i, \"\\t\\t\", c, 'x', i, '=', c*i)\n",
    "#used tab character \"t/t for column\""
   ]
  },
  {
   "cell_type": "code",
   "execution_count": 48,
   "metadata": {},
   "outputs": [
    {
     "name": "stdout",
     "output_type": "stream",
     "text": [
      "Enter your text here: Faisal\n",
      "03021412323\n"
     ]
    }
   ],
   "source": [
    "dic1 = {\n",
    "    'Faisal': \"03021412323\",\n",
    "    'Saad': \"03233131310\",\n",
    "    'Saddam': \"03032333131\",\n",
    "    'Zeeshan': \"03230303000\" , \n",
    "}\n",
    "a = input(\"Enter your text here: \")\n",
    "for i in dic1.keys():\n",
    "    if i == a:\n",
    "        print(dic1[i])\n",
    "        break\n",
    "    else:\n",
    "        print(\"Not in the list\")"
   ]
  },
  {
   "cell_type": "code",
   "execution_count": null,
   "metadata": {},
   "outputs": [],
   "source": []
  }
 ],
 "metadata": {
  "kernelspec": {
   "display_name": "Python 3",
   "language": "python",
   "name": "python3"
  },
  "language_info": {
   "codemirror_mode": {
    "name": "ipython",
    "version": 3
   },
   "file_extension": ".py",
   "mimetype": "text/x-python",
   "name": "python",
   "nbconvert_exporter": "python",
   "pygments_lexer": "ipython3",
   "version": "3.7.3"
  }
 },
 "nbformat": 4,
 "nbformat_minor": 2
}
